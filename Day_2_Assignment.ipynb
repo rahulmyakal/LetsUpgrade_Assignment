{
  "nbformat": 4,
  "nbformat_minor": 0,
  "metadata": {
    "colab": {
      "name": "Day_2_Assignment.ipynb",
      "provenance": [],
      "authorship_tag": "ABX9TyMJw7S5fd9K2LE3oUuy8jcZ",
      "include_colab_link": true
    },
    "kernelspec": {
      "name": "python3",
      "display_name": "Python 3"
    }
  },
  "cells": [
    {
      "cell_type": "markdown",
      "metadata": {
        "id": "view-in-github",
        "colab_type": "text"
      },
      "source": [
        "<a href=\"https://colab.research.google.com/github/rahulmyakal/LetsUpgrade_Assignment/blob/main/Day_2_Assignment.ipynb\" target=\"_parent\"><img src=\"https://colab.research.google.com/assets/colab-badge.svg\" alt=\"Open In Colab\"/></a>"
      ]
    },
    {
      "cell_type": "code",
      "metadata": {
        "colab": {
          "base_uri": "https://localhost:8080/"
        },
        "id": "vfnKFdhPdgdm",
        "outputId": "d40f0e73-dcd9-4ac0-f95d-a220ba253057"
      },
      "source": [
        "#QUESTION 1\n",
        "str1=\"Rahul Myakal\"\n",
        "str2=\"Hello\"\n",
        "print(str2)\n",
        "print(str1)\n",
        "print(str2+\" \" +str1) #concate\n",
        "print(len(str1)) #length function\n",
        "print(str1.upper()) #upper case function\n",
        "print(str1.swapcase()) #swapcase function\n",
        "print(str1.isalpha()) #isalpha function\n",
        "print(str1.find('l'))"
      ],
      "execution_count": 2,
      "outputs": [
        {
          "output_type": "stream",
          "text": [
            "Hello\n",
            "Rahul Myakal\n",
            "Hello Rahul Myakal\n",
            "12\n",
            "RAHUL MYAKAL\n",
            "rAHUL mYAKAL\n",
            "False\n",
            "4\n"
          ],
          "name": "stdout"
        }
      ]
    },
    {
      "cell_type": "code",
      "metadata": {
        "colab": {
          "base_uri": "https://localhost:8080/"
        },
        "id": "ScimpgTrd7Vk",
        "outputId": "532c51c5-8b50-488b-d3c1-bdba82f32664"
      },
      "source": [
        "#QUESTION 2\n",
        "list1=[72,36,25,83,26]\n",
        "list2=[\"hii\",\"Hello\",\"hey\"]\n",
        "List3=[72,36,25,83,26]\n",
        "print(list1)\n",
        "print(list2)\n",
        "print(type(list1))\n",
        "print(list1.append(\"you\"))\n",
        "print(list1)\n",
        "print(max(List3),min(List3))\n",
        "print(len(list1))\n",
        "print(list1.index(36))\n",
        "print(tuple(list1))"
      ],
      "execution_count": 3,
      "outputs": [
        {
          "output_type": "stream",
          "text": [
            "[72, 36, 25, 83, 26]\n",
            "['hii', 'Hello', 'hey']\n",
            "<class 'list'>\n",
            "None\n",
            "[72, 36, 25, 83, 26, 'you']\n",
            "83 25\n",
            "6\n",
            "1\n",
            "(72, 36, 25, 83, 26, 'you')\n"
          ],
          "name": "stdout"
        }
      ]
    },
    {
      "cell_type": "code",
      "metadata": {
        "colab": {
          "base_uri": "https://localhost:8080/"
        },
        "id": "f9G4fS4FeEFx",
        "outputId": "8f1266a8-4508-469d-9b5f-29bafc0dac44"
      },
      "source": [
        "#QUESTION 3\n",
        "self_dict={\"name\":\"Rahul\", \"middle\":\"Chandan\",\"last\": \"Myakal\"}\n",
        "print(self_dict)\n",
        "print(self_dict.get(\"name\"))   #get()\n",
        "print(self_dict.get(\"middle\"))\n",
        "print(self_dict.get(\"last\"))\n",
        "print(self_dict.items())  #items()\n",
        "self_dict.update({\"age\":19}) #update()\n",
        "print(self_dict)\n",
        "x=self_dict.values() #values()\n",
        "print(x)\n",
        "y=self_dict.popitem()\n",
        "print(y)\n",
        "print(self_dict)"
      ],
      "execution_count": 4,
      "outputs": [
        {
          "output_type": "stream",
          "text": [
            "{'name': 'Rahul', 'middle': 'Chandan', 'last': 'Myakal'}\n",
            "Rahul\n",
            "Chandan\n",
            "Myakal\n",
            "dict_items([('name', 'Rahul'), ('middle', 'Chandan'), ('last', 'Myakal')])\n",
            "{'name': 'Rahul', 'middle': 'Chandan', 'last': 'Myakal', 'age': 19}\n",
            "dict_values(['Rahul', 'Chandan', 'Myakal', 19])\n",
            "('age', 19)\n",
            "{'name': 'Rahul', 'middle': 'Chandan', 'last': 'Myakal'}\n"
          ],
          "name": "stdout"
        }
      ]
    }
  ]
}